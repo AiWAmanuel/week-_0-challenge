{
 "cells": [
  {
   "cell_type": "code",
   "execution_count": 1,
   "metadata": {},
   "outputs": [
    {
     "name": "stdout",
     "output_type": "stream",
     "text": [
      "Accuracy: 1.0\n",
      "Predictions for test data:\n",
      "Actual: 1, Predicted: 1\n",
      "Actual: 0, Predicted: 0\n",
      "Actual: 2, Predicted: 2\n",
      "Actual: 1, Predicted: 1\n",
      "Actual: 1, Predicted: 1\n"
     ]
    }
   ],
   "source": [
    "from sklearn import datasets \n",
    "from sklearn.model_selection import train_test_split \n",
    "from sklearn.svm import SVC \n",
    "from sklearn.metrics import accuracy_score \n",
    "# Load the Iris dataset \n",
    "iris = datasets.load_iris()  #you can data set find the end of this program  \n",
    "X = iris.data  # Features \n",
    "y = iris.target  # Labels \n",
    "# Split the dataset into training and testing sets (80% train, 20% test) \n",
    "X_train, X_test, y_train, y_test = train_test_split(X, y, test_size=0.2, random_state=42) \n",
    "# Create and train the SVM model \n",
    "svm_model = SVC(kernel='linear', C=1.0, random_state=42) \n",
    "svm_model.fit(X_train, y_train) \n",
    "# Predict the labels for test data \n",
    "predictions = svm_model.predict(X_test) \n",
    "# Calculate accuracy \n",
    "accuracy = accuracy_score(y_test, predictions) \n",
    "print(\"Accuracy:\", accuracy) \n",
    "# Output predictions \n",
    "print(\"Predictions for test data:\") \n",
    "for i, pred in enumerate(predictions[:5]): \n",
    "  print(f\"Actual: {y_test[i]}, Predicted: {pred}\")"
   ]
  }
 ],
 "metadata": {
  "kernelspec": {
   "display_name": "Python 3",
   "language": "python",
   "name": "python3"
  },
  "language_info": {
   "codemirror_mode": {
    "name": "ipython",
    "version": 3
   },
   "file_extension": ".py",
   "mimetype": "text/x-python",
   "name": "python",
   "nbconvert_exporter": "python",
   "pygments_lexer": "ipython3",
   "version": "3.12.1"
  }
 },
 "nbformat": 4,
 "nbformat_minor": 2
}
