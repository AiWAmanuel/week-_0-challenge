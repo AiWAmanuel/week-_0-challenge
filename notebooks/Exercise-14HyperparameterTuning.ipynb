{
 "cells": [
  {
   "cell_type": "code",
   "execution_count": null,
   "metadata": {},
   "outputs": [],
   "source": [
    "from sklearn.datasets import load_iris \n",
    "from sklearn.model_selection import train_test_split, GridSearchCV \n",
    "from sklearn.ensemble import RandomForestClassifier \n",
    "# Load the dataset \n",
    "iris = load_iris() \n",
    "X = iris.data \n",
    "y = iris.target \n",
    "# Split the dataset into training and testing sets \n",
    "X_train, X_test, y_train, y_test = train_test_split(X, y, test_size=0.2, random_state=42) \n",
    "# Define the model \n",
    "model = RandomForestClassifier() \n",
    "# Define hyperparameters to search \n",
    "param_grid = { \n",
    "'n_estimators': [50, 100, 200], \n",
    "'max_depth': [None, 5, 10], \n",
    "'min_samples_split': [2, 5, 10], \n",
    "'min_samples_leaf': [1, 2, 4] \n",
    "} \n",
    "# Perform grid search with cross-validation \n",
    "grid_search = scoring='accuracy') GridSearchCV(estimator=model, \n",
    "grid_search.fit(X_train, y_train) \n",
    "# Print the best hyperparameters and score \n",
    "print(\"Best Hyperparameters:\", grid_search.best_params_) \n",
    "print(\"Best Score:\", grid_search.best_score_) \n",
    "param_grid=param_grid, \n",
    "# Evaluate the model with the best hyperparameters on the test set \n",
    "best_model = grid_search.best_estimator_ \n",
    "test_score = best_model.score(X_test, y_test) \n",
    "print(\"Test Score:\", test_score)"
   ]
  }
 ],
 "metadata": {
  "kernelspec": {
   "display_name": "Python 3",
   "language": "python",
   "name": "python3"
  },
  "language_info": {
   "name": "python",
   "version": "3.12.1"
  }
 },
 "nbformat": 4,
 "nbformat_minor": 2
}
