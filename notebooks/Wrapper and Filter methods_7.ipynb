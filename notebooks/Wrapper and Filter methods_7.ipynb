{
 "cells": [
  {
   "cell_type": "code",
   "execution_count": 1,
   "metadata": {},
   "outputs": [
    {
     "name": "stdout",
     "output_type": "stream",
     "text": [
      "Dataset preview:\n",
      "    sepal_length  sepal_width  petal_length  petal_width      species\n",
      "0           5.1          3.5           1.4          0.2  Iris-setosa\n",
      "1           4.9          3.0           1.4          0.2  Iris-setosa\n",
      "2           4.7          3.2           1.3          0.2  Iris-setosa\n",
      "3           4.6          3.1           1.5          0.2  Iris-setosa\n",
      "4           5.0          3.6           1.4          0.2  Iris-setosa\n",
      "Column names: Index(['sepal_length', 'sepal_width', 'petal_length', 'petal_width',\n",
      "       'species'],\n",
      "      dtype='object')\n",
      "Accuracy with Filter Method: 1.0\n",
      "Accuracy with Wrapper Method: 1.0\n"
     ]
    }
   ],
   "source": [
    "import pandas as pd \n",
    "from sklearn.model_selection import train_test_split \n",
    "from sklearn.svm import SVC \n",
    "from sklearn.metrics import accuracy_score \n",
    "from sklearn.feature_selection import SequentialFeatureSelector , SelectKBest,f_classif\n",
    "# Load the Iris dataset with a custom separator if needed \n",
    "try: \n",
    " data = pd.read_csv(\"C:/Users/Hp/Desktop/VSCode/datalumina-project-template/data/IRIS.csv\") \n",
    "except Exception as e: \n",
    " print(\"Error reading the file:\", e) \n",
    " raise \n",
    "# Display the first few rows to ensure correct formatting \n",
    "print(\"Dataset preview:\\n\", data.head()) \n",
    "f_classif, \n",
    "# Verify column names and check for correct feature splitting \n",
    "print(\"Column names:\", data.columns) \n",
    "# Adjust target column if necessary \n",
    "target_column = \"species\" \n",
    "if target_column not in data.columns: \n",
    " raise KeyError(f\"'{target_column}' column not found. Check the CSV for correct formatting.\") \n",
    "# Ensure that all feature columns are numeric \n",
    "X = data.drop(target_column, axis=1) \n",
    "y = data[target_column] \n",
    "X = X.apply(pd.to_numeric, errors='coerce')  # Convert features to numeric, coerce errors to NaN \n",
    "# Check for and drop any rows with NaN values caused by conversion issues \n",
    "if X.isnull().values.any(): \n",
    "    print(\"Warning: Non-numeric data found and removed.\") \n",
    "    X = X.dropna() \n",
    "    y = y[X.index]  # Align target variable with filtered rows \n",
    "# Split data into training and testing sets \n",
    "X_train, X_test, y_train, y_test = train_test_split(X, y, test_size=0.2, \n",
    "random_state=42) \n",
    "# Filter Method: SelectKBest \n",
    "selector = SelectKBest(f_classif, k=2) \n",
    "X_train_filtered = selector.fit_transform(X_train, y_train) \n",
    "X_test_filtered = selector.transform(X_test) \n",
    "# Train the SVM model \n",
    "clf = SVC() \n",
    "clf.fit(X_train_filtered, y_train) \n",
    "# Make predictions and evaluate the model \n",
    "y_pred = clf.predict(X_test_filtered) \n",
    "accuracy = accuracy_score(y_test, y_pred) \n",
    "print(\"Accuracy with Filter Method:\", accuracy) \n",
    "# Wrapper Method: Sequential Feature Selector \n",
    "sfs = SequentialFeatureSelector(SVC(), n_features_to_select=2) \n",
    "sfs.fit(X_train, y_train) \n",
    "# Get the selected features \n",
    "selected_features = X_train.columns[sfs.get_support()] \n",
    "# Train the SVM model with selected features \n",
    "X_train_selected = X_train[selected_features] \n",
    "X_test_selected = X_test[selected_features] \n",
    "clf = SVC() \n",
    "clf.fit(X_train_selected, y_train) \n",
    "# Make predictions and evaluate the model \n",
    "y_pred = clf.predict(X_test_selected) \n",
    "accuracy = accuracy_score(y_test, y_pred) \n",
    "print(\"Accuracy with Wrapper Method:\", accuracy) "
   ]
  }
 ],
 "metadata": {
  "kernelspec": {
   "display_name": "Python 3",
   "language": "python",
   "name": "python3"
  },
  "language_info": {
   "codemirror_mode": {
    "name": "ipython",
    "version": 3
   },
   "file_extension": ".py",
   "mimetype": "text/x-python",
   "name": "python",
   "nbconvert_exporter": "python",
   "pygments_lexer": "ipython3",
   "version": "3.12.1"
  }
 },
 "nbformat": 4,
 "nbformat_minor": 2
}
