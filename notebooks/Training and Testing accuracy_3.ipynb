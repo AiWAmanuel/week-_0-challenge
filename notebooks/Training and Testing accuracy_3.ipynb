{
 "cells": [
  {
   "cell_type": "code",
   "execution_count": 1,
   "metadata": {},
   "outputs": [
    {
     "name": "stdout",
     "output_type": "stream",
     "text": [
      "Training Accuracy: 97.50%\n",
      "Testing Accuracy: 100.00%\n"
     ]
    }
   ],
   "source": [
    "# Import necessary libraries \n",
    "from sklearn import datasets \n",
    "from sklearn.model_selection import train_test_split \n",
    "from sklearn.svm import SVC \n",
    "from sklearn.metrics import accuracy_score \n",
    "# Load dataset (for example, Iris dataset) \n",
    "data = datasets.load_iris()  #you can find this dataset sample at the end of this program \n",
    "X = data.data  # Features \n",
    "y = data.target  # Labels \n",
    "# Split the dataset into training and testing sets (80% train, 20% test) \n",
    "X_train, X_test, y_train, y_test = train_test_split(X, y, test_size=0.2, random_state=42) \n",
    "# Create an SVM model \n",
    "svm_model = SVC(kernel='linear')  # You can change the kernel (e.g., 'linear', 'rbf') \n",
    "# Train the model on the training data \n",
    "svm_model.fit(X_train, y_train) \n",
    "# Make predictions on both training and testing data \n",
    "y_train_pred = svm_model.predict(X_train) \n",
    "y_test_pred = svm_model.predict(X_test) \n",
    "# Calculate training and testing accuracies \n",
    "train_accuracy = accuracy_score(y_train, y_train_pred) \n",
    "test_accuracy = accuracy_score(y_test, y_test_pred) \n",
    "# Print the results \n",
    "print(f\"Training Accuracy: {train_accuracy * 100:.2f}%\") \n",
    "print(f\"Testing Accuracy: {test_accuracy * 100:.2f}%\") "
   ]
  }
 ],
 "metadata": {
  "kernelspec": {
   "display_name": "Python 3",
   "language": "python",
   "name": "python3"
  },
  "language_info": {
   "codemirror_mode": {
    "name": "ipython",
    "version": 3
   },
   "file_extension": ".py",
   "mimetype": "text/x-python",
   "name": "python",
   "nbconvert_exporter": "python",
   "pygments_lexer": "ipython3",
   "version": "3.12.1"
  }
 },
 "nbformat": 4,
 "nbformat_minor": 2
}
